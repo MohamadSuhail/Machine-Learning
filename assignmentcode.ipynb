{
 "cells": [
  {
   "cell_type": "markdown",
   "id": "1c5f8641-c622-41f3-a45f-2d76c6c0fc96",
   "metadata": {},
   "source": [
    "Student Name- Mohamad Suhail Polur\n",
    "ID - 700745813\n",
    "CRN- 22002"
   ]
  },
  {
   "cell_type": "markdown",
   "id": "d4b05ca1-db2b-4064-80d6-b23af8b47895",
   "metadata": {
    "tags": []
   },
   "source": [
    "## Question 1\n",
    "### The following is a list of 10 students ages:\n",
    "`ages = [19, 22, 19, 24, 20, 25, 26, 24, 25, 24]`\n",
    "* **Sort the list and find the min and max age**\n",
    "* **Add the min age and the max age again to the list**\n",
    "* **Find the median age (one middle item or two middle items divided by two)**\n",
    "* **Find the average age (sum of all items divided by their number)**\n",
    "* **Find the range of the ages (max minus min)**"
   ]
  },
  {
   "cell_type": "code",
   "execution_count": 13,
   "id": "0ba9bacc-5f62-4d5c-81c3-7fd76ce95397",
   "metadata": {},
   "outputs": [],
   "source": [
    "ages = [19, 22, 19, 24, 20, 25, 26, 24, 25, 24]"
   ]
  },
  {
   "cell_type": "markdown",
   "id": "2a722368-0f1f-4e73-89f5-edca7a6011bf",
   "metadata": {},
   "source": [
    "**Sort the list and find the min and max age**"
   ]
  },
  {
   "cell_type": "code",
   "execution_count": 14,
   "id": "f9af553e-2348-41c4-9476-bc9a51fe164d",
   "metadata": {},
   "outputs": [
    {
     "name": "stdout",
     "output_type": "stream",
     "text": [
      "The Sorted List is:  [19, 19, 20, 22, 24, 24, 24, 25, 25, 26]\n",
      "The minimum age is 19 and maximum age is 26\n"
     ]
    }
   ],
   "source": [
    "#Sorting the list using sorted function and assigning it to a variable. \n",
    "#List can also be sorted using <list>.sort() function and it will sort in place\n",
    "sorted_ages_list = sorted(ages)\n",
    "ages.sort()\n",
    "print(\"The Sorted List is: \", sorted_ages_list)\n",
    "\n",
    "#Using min() and max() function, we can get minimum and maximum value of list. Using placeholders, display the output\n",
    "min_age, max_age = min(sorted_ages_list), max(sorted_ages_list)\n",
    "print(\"The minimum age is {} and maximum age is {}\".format(min_age, max_age))"
   ]
  },
  {
   "cell_type": "markdown",
   "id": "463dce87-9689-46de-a3b8-6ba506368db1",
   "metadata": {},
   "source": [
    "**Add the min age and the max age again to the list**"
   ]
  },
  {
   "cell_type": "code",
   "execution_count": 15,
   "id": "b2ee82a7-d13a-455b-b0be-2b953a6401c0",
   "metadata": {},
   "outputs": [
    {
     "name": "stdout",
     "output_type": "stream",
     "text": [
      "[19, 19, 20, 22, 24, 24, 24, 25, 25, 26, 19, 26]\n"
     ]
    }
   ],
   "source": [
    "#Using the extend function we add the min and max age to the list\n",
    "ages.extend([min_age, max_age])\n",
    "print(ages)"
   ]
  },
  {
   "cell_type": "markdown",
   "id": "768dc619-d60a-4f38-a049-ff7621c7f41a",
   "metadata": {},
   "source": [
    "**Find the median age (one middle item or two middle items divided by two)**"
   ]
  },
  {
   "cell_type": "code",
   "execution_count": 4,
   "id": "546842fd-9a5e-4d89-a915-dbf32951e896",
   "metadata": {},
   "outputs": [
    {
     "name": "stdout",
     "output_type": "stream",
     "text": [
      "Median is 24.0\n"
     ]
    }
   ],
   "source": [
    "#Find if the length of list is odd or even\n",
    "#If length is odd, take center term as median; else, find average of middle 2 terms and serve as median\n",
    "mid_index = len(ages)//2\n",
    "if len(ages)%2==0:\n",
    "    #In this case mid_index = 6, total terms will be 12. Therefore ages[5] and ages[6] average will give correct median\n",
    "    median = (ages[mid_index] + ages[mid_index - 1]) / 2\n",
    "else:\n",
    "    median = ages[mid_index]\n",
    "    \n",
    "print(\"Median is {}\".format(median))"
   ]
  },
  {
   "cell_type": "markdown",
   "id": "11fc46ca-93a8-4b7b-8a70-e2c689150444",
   "metadata": {},
   "source": [
    "**Find the average age (sum of all items divided by their number)**"
   ]
  },
  {
   "cell_type": "code",
   "execution_count": 5,
   "id": "0af5b8a0-601a-4c5c-9cf8-e4d583190e36",
   "metadata": {},
   "outputs": [
    {
     "name": "stdout",
     "output_type": "stream",
     "text": [
      "Average age is: 22.75\n"
     ]
    }
   ],
   "source": [
    "#Iterating through the individual items in the list, we can find the total sum of all items and divide by the length of the list\n",
    "sum = 0\n",
    "for age in ages:\n",
    "    sum += age\n",
    "print(\"Average age is: {}\".format(sum/len(ages)))"
   ]
  },
  {
   "cell_type": "markdown",
   "id": "ac10c4b2-e2cb-4b3c-bb7e-2f5c8f5edbe7",
   "metadata": {},
   "source": [
    "**Find the range of the ages (max minus min)**"
   ]
  },
  {
   "cell_type": "code",
   "execution_count": 6,
   "id": "5f498f17-378f-4317-ab11-2a1b066ec451",
   "metadata": {},
   "outputs": [
    {
     "name": "stdout",
     "output_type": "stream",
     "text": [
      "Range of ages is: 7\n"
     ]
    }
   ],
   "source": [
    "#We had calculated the min and max age before and later added to the list, making no difference in the resultant min and max value.\n",
    "print(\"Range of ages is: {}\".format(max_age - min_age))"
   ]
  },
  {
   "cell_type": "markdown",
   "id": "4cb9eb49-b71d-4262-8d39-9b11c1a0671b",
   "metadata": {
    "tags": []
   },
   "source": [
    "## Question 2\n",
    "* **Create an empty dictionary called dog**\n",
    "* **Add name, color, breed, legs, age to the dog dictionary**\n",
    "* **Create a student dictionary and add first_name, last_name, gender, age, marital status,\n",
    "skills, country, city and address as keys for the dictionary**\n",
    "* **Get the length of the student dictionary**\n",
    "* **Get the value of skills and check the data type, it should be a list**\n",
    "* **Modify the skills values by adding one or two skills**\n",
    "* **Get the dictionary keys as a list**\n",
    "* **Get the dictionary values as a list**"
   ]
  },
  {
   "cell_type": "markdown",
   "id": "7f3e6d6d-18f8-4a6f-ba1a-f1b653e75847",
   "metadata": {},
   "source": [
    "**Create an empty dictionary called dog**"
   ]
  },
  {
   "cell_type": "code",
   "execution_count": 7,
   "id": "9fa4cebc-7089-4175-b350-968304f0dffd",
   "metadata": {},
   "outputs": [],
   "source": [
    "#Another way to declare empty dictionary is dog = {}\n",
    "dog = dict()"
   ]
  },
  {
   "cell_type": "markdown",
   "id": "461372ad-613d-4371-af1c-75601836ab55",
   "metadata": {},
   "source": [
    "**Add name, color, breed, legs, age to the dog dictionary**"
   ]
  },
  {
   "cell_type": "code",
   "execution_count": 8,
   "id": "dbb44e65-b01e-4a22-a051-55664b51785a",
   "metadata": {},
   "outputs": [
    {
     "name": "stdout",
     "output_type": "stream",
     "text": [
      "{'Name': 'Dusty', 'Color': 'Black', 'Breed': 'German Shepherd', 'Legs': 4, 'Age': 13}\n"
     ]
    }
   ],
   "source": [
    "#We will use update() function to update the previously empty dictionary\n",
    "dog.update({\"Name\":\"Dusty\", \"Color\":\"Black\", \"Breed\":\"German Shepherd\", \"Legs\":4, \"Age\":13})\n",
    "print(dog)"
   ]
  },
  {
   "cell_type": "markdown",
   "id": "a7a809e6-6911-489f-9f30-409b6feb6874",
   "metadata": {},
   "source": [
    "**Create a student dictionary and add first_name, last_name, gender, age, marital status, skills, country, city and address as keys for the dictionary**"
   ]
  },
  {
   "cell_type": "code",
   "execution_count": 1,
   "id": "f14c70bf-2d6a-4fbb-8ea7-daccab4fe39b",
   "metadata": {},
   "outputs": [
    {
     "name": "stdout",
     "output_type": "stream",
     "text": [
      "{'first_name': 'Suhail', 'last_name': 'polur', 'gender': 'Male', 'age': 24, 'marital status': 'Unmarried', 'skills': ['Python', 'Angular', 'Git'], 'country': 'United States', 'city': 'Kansas City', 'address': 'Holmes Road, Kansas City, MO'}\n"
     ]
    }
   ],
   "source": [
    "#Initializing student dictionary with values\n",
    "student = {'first_name':'Suhail', 'last_name':'polur', 'gender':'Male', 'age':24, 'marital status':'Unmarried', 'skills':['Python','Angular','Git'], 'country':'United States', 'city':'Kansas City', 'address':'Holmes Road, Kansas City, MO'}\n",
    "print(student)"
   ]
  },
  {
   "cell_type": "markdown",
   "id": "fe8dd5eb-1a19-441f-9e94-83e83e6432e1",
   "metadata": {},
   "source": [
    "**Get the length of the student dictionary**"
   ]
  },
  {
   "cell_type": "code",
   "execution_count": 10,
   "id": "5c4e98f2-7f2e-4523-8767-ebf5bb8cdb18",
   "metadata": {},
   "outputs": [
    {
     "name": "stdout",
     "output_type": "stream",
     "text": [
      "Student dictionary length:  9\n"
     ]
    }
   ],
   "source": [
    "#Using len function to get length of a dictionary\n",
    "print(\"Student dictionary length: \", len(student))"
   ]
  },
  {
   "cell_type": "markdown",
   "id": "e22b7139-ca0c-43c7-9e0f-20dccb471c6e",
   "metadata": {},
   "source": [
    "**Get the value of skills and check the data type, it should be a list**"
   ]
  },
  {
   "cell_type": "code",
   "execution_count": 11,
   "id": "123eb825-4318-469c-a21e-d7948ea1b067",
   "metadata": {},
   "outputs": [
    {
     "name": "stdout",
     "output_type": "stream",
     "text": [
      "Data type of skills in student dictionary is <class 'list'> and values are ['Python', 'Angular', 'Git']\n"
     ]
    }
   ],
   "source": [
    "#Using type() function to get Data type\n",
    "print(\"Data type of skills in student dictionary is {} and values are {}\".format(type(student['skills']), student['skills']))"
   ]
  },
  {
   "cell_type": "markdown",
   "id": "580ed39f-8ebe-4571-b011-c5e9dfe790e2",
   "metadata": {},
   "source": [
    "**Modify the skills values by adding one or two skills**"
   ]
  },
  {
   "cell_type": "code",
   "execution_count": 12,
   "id": "c5223eee-c2c5-49c8-bd9c-7304e601efd0",
   "metadata": {},
   "outputs": [
    {
     "name": "stdout",
     "output_type": "stream",
     "text": [
      "Skills of student are:  ['Python', 'Angular', 'Git', 'HTML', 'Javascript']\n"
     ]
    }
   ],
   "source": [
    "#We will use extend function of list to add 2 skills to skills list in student dictionary\n",
    "student['skills'].extend(['HTML','Javascript'])\n",
    "print(\"Skills of student are: \", student['skills'])"
   ]
  },
  {
   "cell_type": "markdown",
   "id": "e52cfee8-fa3b-44f3-aeed-ab342da676de",
   "metadata": {},
   "source": [
    "**Get the dictionary keys as a list**"
   ]
  },
  {
   "cell_type": "code",
   "execution_count": 13,
   "id": "600ca51a-e9b0-487e-a43d-23669f3359e2",
   "metadata": {},
   "outputs": [
    {
     "name": "stdout",
     "output_type": "stream",
     "text": [
      "List of keys of student are:  ['first_name', 'last_name', 'gender', 'age', 'marital status', 'skills', 'country', 'city', 'address']\n"
     ]
    }
   ],
   "source": [
    "#We can use casting and keys() function to directly output a list of keys\n",
    "print(\"List of keys of student are: \", list(student.keys()))"
   ]
  },
  {
   "cell_type": "markdown",
   "id": "3ed0884a-b1a4-4a36-8a5b-d71589f8fdca",
   "metadata": {},
   "source": [
    "**Get the dictionary values as a list**"
   ]
  },
  {
   "cell_type": "code",
   "execution_count": 14,
   "id": "e5f4b432-ac3d-4735-bd3a-efac78d35620",
   "metadata": {},
   "outputs": [
    {
     "name": "stdout",
     "output_type": "stream",
     "text": [
      "List of values of student are:  ['Sushant', 'Ashish', 'Male', 27, 'Unmarried', ['Python', 'Angular', 'Git', 'HTML', 'Javascript'], 'United States', 'Kansas City', 'Holmes Road, Kansas City, MO']\n"
     ]
    }
   ],
   "source": [
    "#Same as keys, we can use values() function to get values\n",
    "print(\"List of values of student are: \", list(student.values()))"
   ]
  },
  {
   "cell_type": "markdown",
   "id": "b0af8177-3848-4555-9b1a-bf04b88217a8",
   "metadata": {},
   "source": [
    "## Question 3\n",
    "* **Create a tuple containing names of your sisters and your brothers (imaginary siblings are\n",
    "fine)**\n",
    "* **Join brothers and sisters tuples and assign it to siblings**\n",
    "* **How many siblings do you have?**\n",
    "* **Modify the siblings tuple and add the name of your father and mother and assign it to\n",
    "family_members**"
   ]
  },
  {
   "cell_type": "markdown",
   "id": "8e373a9f-3062-4c13-b0ab-314449a85944",
   "metadata": {},
   "source": [
    "**Create a tuple containing names of your sisters and your brothers (imaginary siblings are fine)**"
   ]
  },
  {
   "cell_type": "code",
   "execution_count": 2,
   "id": "707390d6-5f70-42a6-aae1-d394c724d815",
   "metadata": {},
   "outputs": [
    {
     "name": "stdout",
     "output_type": "stream",
     "text": [
      "('Dheresh', 'charan') ('Sonu', 'sunny')\n"
     ]
    }
   ],
   "source": [
    "brothers = ('Dheresh', 'charan')\n",
    "sisters = ('Sonu', 'sunny')\n",
    "print(brothers, sisters)"
   ]
  },
  {
   "cell_type": "markdown",
   "id": "136bdaaf-a445-4884-8f62-c90da0c2e0e9",
   "metadata": {},
   "source": [
    "**Join brothers and sisters tuples and assign it to siblings**"
   ]
  },
  {
   "cell_type": "code",
   "execution_count": 3,
   "id": "d77bcf30-09ed-453e-83db-d20fcbb81c40",
   "metadata": {},
   "outputs": [
    {
     "name": "stdout",
     "output_type": "stream",
     "text": [
      "('Dheresh', 'charan', 'Sonu', 'sunny')\n"
     ]
    }
   ],
   "source": [
    "siblings = brothers + sisters\n",
    "print(siblings)"
   ]
  },
  {
   "cell_type": "markdown",
   "id": "c10f4741-fde7-4392-a9d9-52f5a18e5e7a",
   "metadata": {},
   "source": [
    "**How many siblings do you have?**"
   ]
  },
  {
   "cell_type": "code",
   "execution_count": 17,
   "id": "892c3e32-9e48-4d35-b645-415b36c23b69",
   "metadata": {},
   "outputs": [
    {
     "name": "stdout",
     "output_type": "stream",
     "text": [
      "I have 4 siblings\n"
     ]
    }
   ],
   "source": [
    "print(\"I have {} siblings\".format(len(siblings)))"
   ]
  },
  {
   "cell_type": "markdown",
   "id": "39cbd5e3-aad1-4d30-8084-f88ead994a98",
   "metadata": {},
   "source": [
    "**Modify the siblings tuple and add the name of your father and mother and assign it to family_members**"
   ]
  },
  {
   "cell_type": "code",
   "execution_count": 5,
   "id": "bef03025-04ed-4f4e-92af-6799610f9a28",
   "metadata": {},
   "outputs": [
    {
     "name": "stdout",
     "output_type": "stream",
     "text": [
      "My family members are:  ('Dheresh', 'charan', 'Sonu', 'sunny', 'tony', 'abdul')\n"
     ]
    }
   ],
   "source": [
    "#As tuple is immutable, we cannot modify an existing tuple, therefore creating and assigning family_members\n",
    "family_members = siblings + ('tony', 'abdul')\n",
    "print(\"My family members are: \", family_members)"
   ]
  },
  {
   "cell_type": "markdown",
   "id": "dac3652e-4bb7-4140-a485-81c6d72564b0",
   "metadata": {},
   "source": [
    "## Question 4\n",
    "`it_companies = {'Facebook', 'Google', 'Microsoft', 'Apple', 'IBM', 'Oracle', 'Amazon'}`<br>\n",
    "`A = {19, 22, 24, 20, 25, 26}`<br>\n",
    "`B = {19, 22, 20, 25, 26, 24, 28, 27}`<br>\n",
    "`age = [22, 19, 24, 25, 26, 24, 25, 24]`<br>\n",
    "* **Find the length of the set it_companies**\n",
    "* **Add 'Twitter' to it_companies**\n",
    "* **Insert multiple IT companies at once to the set it_companies**\n",
    "* **Remove one of the companies from the set it_companies**\n",
    "* **What is the difference between remove and discard**\n",
    "* **Join A and B**\n",
    "* **Find A intersection B**\n",
    "* **Is A subset of B**\n",
    "* **Are A and B disjoint sets**\n",
    "* **Join A with B and B with A**\n",
    "* **What is the symmetric difference between A and B**\n",
    "* **Delete the sets completely**\n",
    "* **Convert the ages to a set and compare the length of the list and the set.**"
   ]
  },
  {
   "cell_type": "markdown",
   "id": "52074553-550c-4bdc-8acc-84132781ad98",
   "metadata": {},
   "source": [
    "**Find the length of the set it_companies**"
   ]
  },
  {
   "cell_type": "code",
   "execution_count": 10,
   "id": "d864c045-b03a-4505-be76-0bbbe895fdbb",
   "metadata": {},
   "outputs": [
    {
     "name": "stdout",
     "output_type": "stream",
     "text": [
      "Length of it_companies:  6\n"
     ]
    }
   ],
   "source": [
    "it_companies = {'Facebook', 'Google', 'Microsoft', 'Apple', 'Ust', 'Amazon'}\n",
    "A = {19, 22, 24, 20, 25, 26}\n",
    "B = {19, 22, 20, 25, 26, 24, 28, 27}\n",
    "age = [22, 19, 24, 25, 26, 24, 25, 24]\n",
    "\n",
    "print(\"Length of it_companies: \",len(it_companies))"
   ]
  },
  {
   "cell_type": "markdown",
   "id": "01c9f1a0-2f20-4c89-95cf-626ee3465282",
   "metadata": {},
   "source": [
    "**Add 'Twitter' to it_companies**"
   ]
  },
  {
   "cell_type": "code",
   "execution_count": 7,
   "id": "33d8d08e-71aa-408b-96f5-1a066503e44f",
   "metadata": {},
   "outputs": [
    {
     "name": "stdout",
     "output_type": "stream",
     "text": [
      "{'Apple', 'Microsoft', 'Oracle', 'Twitter', 'Google', 'Amazon', 'Ust', 'Facebook'}\n"
     ]
    }
   ],
   "source": [
    "it_companies.add('Twitter')\n",
    "print(it_companies)"
   ]
  },
  {
   "cell_type": "markdown",
   "id": "a849ad50-4f15-477d-a273-29e275e83d44",
   "metadata": {},
   "source": [
    "**Insert multiple IT companies at once to the set it_companies**"
   ]
  },
  {
   "cell_type": "code",
   "execution_count": 8,
   "id": "62cc05b4-cf6a-4bfe-955f-bff93bd59a87",
   "metadata": {},
   "outputs": [
    {
     "name": "stdout",
     "output_type": "stream",
     "text": [
      "{'Microsoft', 'Cisco', 'Amazon', 'Apple', 'Google', 'Ust', 'Facebook', 'Oracle', 'Hexagon', 'Twitter', 'Infosys'}\n"
     ]
    }
   ],
   "source": [
    "#add() function adds only 1 entry, for multiple, we use update() and pass a list of items to be added\n",
    "it_companies.update(['Cisco','Hexagon','Infosys'])\n",
    "print(it_companies)"
   ]
  },
  {
   "cell_type": "markdown",
   "id": "d8be5fbe-2b79-4e95-96b7-46981b1e57ff",
   "metadata": {},
   "source": [
    "**Remove one of the companies from the set it_companies**"
   ]
  },
  {
   "cell_type": "code",
   "execution_count": 11,
   "id": "8c394761-4ad9-46cf-bb3f-31615db2f7a0",
   "metadata": {},
   "outputs": [
    {
     "name": "stdout",
     "output_type": "stream",
     "text": [
      "{'Apple', 'Microsoft', 'Google', 'Amazon', 'Ust', 'Facebook'}\n"
     ]
    }
   ],
   "source": [
    "#Using discard() function to remove a specific item given as parameter, if the first element is to be removed, then we can use pop()\n",
    "it_companies.discard('Oracle')\n",
    "print(it_companies)"
   ]
  },
  {
   "cell_type": "markdown",
   "id": "a6bf7225-c5b3-4aea-94e6-4626abcff8da",
   "metadata": {},
   "source": [
    "**What is the difference between remove and discard**"
   ]
  },
  {
   "cell_type": "code",
   "execution_count": 12,
   "id": "ab98e568-e614-4cb7-93dd-a7b4c0f071a4",
   "metadata": {},
   "outputs": [
    {
     "ename": "KeyError",
     "evalue": "'Oracle'",
     "output_type": "error",
     "traceback": [
      "\u001b[1;31m---------------------------------------------------------------------------\u001b[0m",
      "\u001b[1;31mKeyError\u001b[0m                                  Traceback (most recent call last)",
      "Cell \u001b[1;32mIn[12], line 4\u001b[0m\n\u001b[0;32m      1\u001b[0m \u001b[38;5;66;03m#discard() function performs a check if the intended item to remove exists previously or not. remove() should throw an error\u001b[39;00m\n\u001b[0;32m      2\u001b[0m \n\u001b[0;32m      3\u001b[0m \u001b[38;5;66;03m#remove() - removing non-existent element\u001b[39;00m\n\u001b[1;32m----> 4\u001b[0m \u001b[43mit_companies\u001b[49m\u001b[38;5;241;43m.\u001b[39;49m\u001b[43mremove\u001b[49m\u001b[43m(\u001b[49m\u001b[38;5;124;43m'\u001b[39;49m\u001b[38;5;124;43mOracle\u001b[39;49m\u001b[38;5;124;43m'\u001b[39;49m\u001b[43m)\u001b[49m\n",
      "\u001b[1;31mKeyError\u001b[0m: 'Oracle'"
     ]
    }
   ],
   "source": [
    "#discard() function performs a check if the intended item to remove exists previously or not. remove() should throw an error\n",
    "\n",
    "#remove() - removing non-existent element\n",
    "it_companies.remove('Oracle')"
   ]
  },
  {
   "cell_type": "code",
   "execution_count": 24,
   "id": "f8afa335-2f6b-45d4-8195-3ba9a43252fb",
   "metadata": {},
   "outputs": [
    {
     "name": "stdout",
     "output_type": "stream",
     "text": [
      "{'IBM', 'Amazon', 'Cisco', 'Hexagon', 'Twitter', 'Facebook', 'Apple', 'Microsoft', 'Infosys', 'Google'}\n"
     ]
    }
   ],
   "source": [
    "# discard() - trying to discard same non-existent element\n",
    "it_companies.discard('Oracle')\n",
    "print(it_companies)"
   ]
  },
  {
   "cell_type": "markdown",
   "id": "74366aab-4a6c-4ce3-bf89-d7c3c9043728",
   "metadata": {},
   "source": [
    "**Join A and B**"
   ]
  },
  {
   "cell_type": "code",
   "execution_count": 25,
   "id": "21dc4538-2eee-4c35-a2ea-2467b60b4808",
   "metadata": {},
   "outputs": [
    {
     "name": "stdout",
     "output_type": "stream",
     "text": [
      "Union of both sets:  {19, 20, 22, 24, 25, 26, 27, 28}\n"
     ]
    }
   ],
   "source": [
    "#Joining 2 sets i.e. finding union of 2 sets\n",
    "join_A_B = A.union(B)\n",
    "print(\"Union of both sets: \", join_A_B)"
   ]
  },
  {
   "cell_type": "markdown",
   "id": "73adca87-df36-4586-b1f6-ed8891490940",
   "metadata": {},
   "source": [
    "**Find A intersection B**"
   ]
  },
  {
   "cell_type": "code",
   "execution_count": 26,
   "id": "f51bc77d-f592-4edf-bcb9-6b95e7fb752c",
   "metadata": {},
   "outputs": [
    {
     "name": "stdout",
     "output_type": "stream",
     "text": [
      "A intersection B is:  {19, 20, 22, 24, 25, 26}\n"
     ]
    }
   ],
   "source": [
    "#Using intersection() function\n",
    "intersection_A_B = A.intersection(B)\n",
    "print(\"A intersection B is: \", intersection_A_B)"
   ]
  },
  {
   "cell_type": "markdown",
   "id": "1195abb9-695a-40a7-b80a-8f44d8b81b9b",
   "metadata": {},
   "source": [
    "**Is A subset of B**"
   ]
  },
  {
   "cell_type": "code",
   "execution_count": 27,
   "id": "eb66a753-0ccf-4bef-80ab-dcbbcdf3ff31",
   "metadata": {},
   "outputs": [
    {
     "name": "stdout",
     "output_type": "stream",
     "text": [
      "Is A subset of B:  True\n"
     ]
    }
   ],
   "source": [
    "#Using issubset() function\n",
    "A_subset_of_B = A.issubset(B)\n",
    "print(\"Is A subset of B: \", A_subset_of_B)"
   ]
  },
  {
   "cell_type": "markdown",
   "id": "2d653f19-6f94-45e6-8314-18c3baa0b8f0",
   "metadata": {},
   "source": [
    "**Are A and B disjoint sets**"
   ]
  },
  {
   "cell_type": "code",
   "execution_count": 28,
   "id": "8b3d9857-fc90-42d2-bb55-13e738665abc",
   "metadata": {},
   "outputs": [
    {
     "name": "stdout",
     "output_type": "stream",
     "text": [
      "Are A and B disjoint sets:  False\n"
     ]
    }
   ],
   "source": [
    "#isdisjoint() compares both sets together, so precendence doesn't matter\n",
    "print(\"Are A and B disjoint sets: \", A.isdisjoint(B))"
   ]
  },
  {
   "cell_type": "markdown",
   "id": "838e82f4-a940-4286-a649-196ab0abb558",
   "metadata": {},
   "source": [
    "**Join A with B and B with A**"
   ]
  },
  {
   "cell_type": "code",
   "execution_count": 29,
   "id": "30810f59-2794-4c35-b53f-c08deadc986b",
   "metadata": {},
   "outputs": [
    {
     "name": "stdout",
     "output_type": "stream",
     "text": [
      "Join A with B:  {19, 20, 22, 24, 25, 26, 27, 28}\n",
      "Join B with A:  {19, 20, 22, 24, 25, 26, 27, 28}\n",
      "Both sets are same\n"
     ]
    }
   ],
   "source": [
    "#Using update() function, the set on which operation is performed is the base, and set in parameter is the one which will be added into the base\n",
    "#Adding A to B\n",
    "B.update(A)\n",
    "print(\"Join A with B: \", B)\n",
    "\n",
    "#Adding B to A\n",
    "B_to_A = A.update(B)\n",
    "print(\"Join B with A: \", A)\n",
    "\n",
    "#Checking if both results are same\n",
    "if A == B:\n",
    "    print(\"Both sets are same\")"
   ]
  },
  {
   "cell_type": "markdown",
   "id": "33cb0134-dfa8-4b1e-acf9-9e453daf21c9",
   "metadata": {},
   "source": [
    "**What is the symmetric difference between A and B**"
   ]
  },
  {
   "cell_type": "code",
   "execution_count": 30,
   "id": "393b60d1-e83e-4ce8-bedb-e6f1c241c012",
   "metadata": {},
   "outputs": [
    {
     "name": "stdout",
     "output_type": "stream",
     "text": [
      "Symmetric difference is:  set()\n"
     ]
    }
   ],
   "source": [
    "#Using symmetric_difference() or symmetric_difference_update()\n",
    "sym_diff = A.symmetric_difference(B)\n",
    "print(\"Symmetric difference is: \", sym_diff)"
   ]
  },
  {
   "cell_type": "markdown",
   "id": "f5370151-6c03-4adc-9328-245c0b7ea08d",
   "metadata": {},
   "source": [
    "**Delete the sets completely**"
   ]
  },
  {
   "cell_type": "code",
   "execution_count": 31,
   "id": "ab30f402-272f-45b3-8cea-9bed0ae2f225",
   "metadata": {},
   "outputs": [
    {
     "name": "stdout",
     "output_type": "stream",
     "text": [
      "set() set()\n"
     ]
    }
   ],
   "source": [
    "#Using clear() function\n",
    "A.clear()\n",
    "B.clear()\n",
    "\n",
    "print(A, B)"
   ]
  },
  {
   "cell_type": "markdown",
   "id": "edc33519-bd64-421f-9587-4e9e166e8233",
   "metadata": {},
   "source": [
    "**Convert the ages to a set and compare the length of the list and the set.**"
   ]
  },
  {
   "cell_type": "code",
   "execution_count": 32,
   "id": "ce8cb6b7-ab60-4b9f-832f-e651ce4a816e",
   "metadata": {},
   "outputs": [
    {
     "name": "stdout",
     "output_type": "stream",
     "text": [
      "List:  [22, 19, 24, 25, 26, 24, 25, 24]\n",
      "Set:  {19, 22, 24, 25, 26}\n",
      "Length of list is 8 and that of set is 5\n"
     ]
    }
   ],
   "source": [
    "#By casting we can convert a list to set\n",
    "age_set = set(age)\n",
    "print(\"List: \", age)\n",
    "print(\"Set: \", age_set)\n",
    "\n",
    "#Set removes duplicate items\n",
    "print(\"Length of list is {} and that of set is {}\".format(len(age), len(age_set)))"
   ]
  },
  {
   "cell_type": "markdown",
   "id": "1232acf9-5bd4-4c74-92a2-1fcb9bf6621f",
   "metadata": {},
   "source": [
    "## Question 5\n",
    "**The radius of a circle is 30 meters.**\n",
    "* **Calculate the area of a circle and assign the value to a variable name of `_area_of_circle_`**\n",
    "* **Calculate the circumference of a circle and assign the value to a variable name of\n",
    "`_circum_of_circle_`**\n",
    "* **Take radius as user input and calculate the area.**"
   ]
  },
  {
   "cell_type": "markdown",
   "id": "63767448-fc86-45a3-bc61-5c96cd11d04f",
   "metadata": {},
   "source": [
    "**Calculate the area of a circle and assign the value to a variable name of `_area_of_circle_`**"
   ]
  },
  {
   "cell_type": "code",
   "execution_count": 33,
   "id": "57faf191-2f87-4459-bad4-dd140d207afa",
   "metadata": {},
   "outputs": [
    {
     "name": "stdout",
     "output_type": "stream",
     "text": [
      "Area of circle: 2826.0 m*m\n",
      "Area of circle(Math module): 2827.4333882308138 m*m\n"
     ]
    }
   ],
   "source": [
    "#Assigning radius and value of pi, area= pi*r*r\n",
    "#Assuming pi=3.14\n",
    "\n",
    "pi = 3.14\n",
    "radius = 30\n",
    "_area_of_circle_ = pi*(radius**2)\n",
    "print(\"Area of circle: {} m*m\".format(_area_of_circle_))\n",
    "\n",
    "#We can get more accurate value if we use Math module\n",
    "import math\n",
    "_area_of_circle_ = math.pi*(radius**2)\n",
    "print(\"Area of circle(Math module): {} m*m\".format(_area_of_circle_))"
   ]
  },
  {
   "cell_type": "markdown",
   "id": "f49b34ac-9df6-4909-a186-158cd9c17e6b",
   "metadata": {},
   "source": [
    "**Calculate the circumference of a circle and assign the value to a variable name of\n",
    "`_circum_of_circle_`**"
   ]
  },
  {
   "cell_type": "code",
   "execution_count": 34,
   "id": "70990e1f-7659-478f-917e-2df328163126",
   "metadata": {},
   "outputs": [
    {
     "name": "stdout",
     "output_type": "stream",
     "text": [
      "Circumference of circle is:  188.4\n"
     ]
    }
   ],
   "source": [
    "#Circumference = 2*pi*r\n",
    "\n",
    "_circum_of_circle = 2*pi*radius\n",
    "print(\"Circumference of circle is: \", _circum_of_circle)"
   ]
  },
  {
   "cell_type": "markdown",
   "id": "aedcd9e3-8de4-4f96-84a4-4def47fb523f",
   "metadata": {},
   "source": [
    "**Take radius as user input and calculate the area.**"
   ]
  },
  {
   "cell_type": "code",
   "execution_count": 35,
   "id": "455165dd-2afd-48cf-8ff5-9de1d1efbd96",
   "metadata": {},
   "outputs": [
    {
     "name": "stdin",
     "output_type": "stream",
     "text": [
      "Enter the radius of circle:  14\n"
     ]
    },
    {
     "name": "stdout",
     "output_type": "stream",
     "text": [
      "Area:  615.44\n"
     ]
    }
   ],
   "source": [
    "#Using input() or raw_input() to take input from user and parsing input as float or int\n",
    "radius = float(input(\"Enter the radius of circle: \"))\n",
    "_area_of_circle_ = pi*(radius**2)\n",
    "print(\"Area: \", _area_of_circle_)"
   ]
  },
  {
   "cell_type": "markdown",
   "id": "018c8766-e0dc-414d-b506-613d328b1789",
   "metadata": {},
   "source": [
    "## Question 6\n",
    "`“I am a teacher and I love to inspire and teach people”`\n",
    "* **How many unique words have been used in the sentence? Use the split methods and set\n",
    "to get the unique words**"
   ]
  },
  {
   "cell_type": "code",
   "execution_count": 36,
   "id": "a729b80e-597c-41ea-b1e8-bec6462153a7",
   "metadata": {},
   "outputs": [
    {
     "name": "stdout",
     "output_type": "stream",
     "text": [
      "The number of unique words is 10 which are as follows: {'a', 'teach', 'and', 'I', 'love', 'to', 'am', 'people', 'inspire', 'teacher'}\n"
     ]
    }
   ],
   "source": [
    "#Using split function of string, we will split words with spaces into a list and convert into a set, so that it removes duplicate values\n",
    "sentence = 'I am a teacher and I love to inspire and teach people'\n",
    "list_words = sentence.split(' ')\n",
    "set_words = set(list_words)\n",
    "print(\"The number of unique words is {} which are as follows: {}\".format(len(set_words), set_words))"
   ]
  },
  {
   "cell_type": "markdown",
   "id": "e75c5e81-25ab-48ce-b310-188302d23d51",
   "metadata": {},
   "source": [
    "## Question 7\n",
    "**Use a tab escape sequence to get the following lines.**<br>\n",
    "Name &emsp;Age &emsp;Country &emsp;City<br>\n",
    "Asabeneh &emsp;250 &emsp;Finland &emsp;Helsinki"
   ]
  },
  {
   "cell_type": "code",
   "execution_count": 37,
   "id": "e3bd5211-1a18-4b99-bc6c-7ecbaa4e9653",
   "metadata": {},
   "outputs": [
    {
     "name": "stdout",
     "output_type": "stream",
     "text": [
      "Name\tAge\tCountry\tCity\n",
      "Asabeneh\t250\tFinland\tHelsinki\n"
     ]
    }
   ],
   "source": [
    "#Using \\t and \\n escape characters we can format\n",
    "print(\"Name\\tAge\\tCountry\\tCity\\nAsabeneh\\t250\\tFinland\\tHelsinki\")"
   ]
  },
  {
   "cell_type": "markdown",
   "id": "b475bed4-a596-4adf-a5e7-0516ab3769fd",
   "metadata": {},
   "source": [
    "## Question 8\n",
    "**Use the string formatting method to display the following:<br>\n",
    "radius = 10<br>\n",
    "area = 3.14 * radius ** 2**<br>\n",
    "`“The area of a circle with radius 10 is 314 meters square.”`"
   ]
  },
  {
   "cell_type": "code",
   "execution_count": 38,
   "id": "8db300fe-1ec0-477b-b5c5-e155d082bc60",
   "metadata": {},
   "outputs": [
    {
     "name": "stdout",
     "output_type": "stream",
     "text": [
      "The area of a circle with radius 10 is 314 meters square.\n"
     ]
    }
   ],
   "source": [
    "#As in questions above, using same {} and format() function, we can represent multiple values\n",
    "radius = 10\n",
    "area = int(3.14*(radius**2))\n",
    "\n",
    "print(\"The area of a circle with radius {} is {} meters square.\".format(radius, area))"
   ]
  },
  {
   "cell_type": "markdown",
   "id": "a9443f7a-1d50-4d10-9bda-80971d4c2485",
   "metadata": {},
   "source": [
    "## Question 9\n",
    "**Write a program, which reads weights (lbs.) of N students into a list and convert these weights to\n",
    "kilograms in a separate list using Loop. N: No of students (Read input from user)**<br>\n",
    "Ex: <br>`L1: [150, 155, 145, 148]`<br>\n",
    "`Output: [68.03, 70.3, 65.77, 67.13]`"
   ]
  },
  {
   "cell_type": "code",
   "execution_count": 39,
   "id": "8439025f-cffd-473a-bcdb-baf51f44b41f",
   "metadata": {},
   "outputs": [
    {
     "name": "stdin",
     "output_type": "stream",
     "text": [
      "Enter number of Students:  5\n",
      "Weight in pounds:  150\n",
      "Weight in pounds:  155\n",
      "Weight in pounds:  145\n",
      "Weight in pounds:  148\n",
      "Weight in pounds:  200\n"
     ]
    },
    {
     "name": "stdout",
     "output_type": "stream",
     "text": [
      "L1:  [150.0, 155.0, 145.0, 148.0, 200.0]\n",
      "Output:  [68.04, 70.31, 65.77, 67.13, 90.72]\n"
     ]
    }
   ],
   "source": [
    "number_of_students = int(input(\"Enter number of Students: \"))\n",
    "input_weights = []\n",
    "output_weights = []\n",
    "for i in range(number_of_students):\n",
    "    weight_pounds = float(input(\"Weight in pounds: \"))\n",
    "    input_weights.append(weight_pounds)\n",
    "    #1lb = 0.45359237kg\n",
    "    weight_kg = round(weight_pounds * 0.45359237, 2)\n",
    "    output_weights.append(weight_kg)\n",
    "\n",
    "print(\"L1: \", input_weights)\n",
    "print(\"Output: \", output_weights)\n",
    "    "
   ]
  }
 ],
 "metadata": {
  "kernelspec": {
   "display_name": "Python 3 (ipykernel)",
   "language": "python",
   "name": "python3"
  },
  "language_info": {
   "codemirror_mode": {
    "name": "ipython",
    "version": 3
   },
   "file_extension": ".py",
   "mimetype": "text/x-python",
   "name": "python",
   "nbconvert_exporter": "python",
   "pygments_lexer": "ipython3",
   "version": "3.10.0"
  }
 },
 "nbformat": 4,
 "nbformat_minor": 5
}
